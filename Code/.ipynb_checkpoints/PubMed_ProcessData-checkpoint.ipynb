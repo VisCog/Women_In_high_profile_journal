{
 "cells": [
  {
   "cell_type": "code",
   "execution_count": null,
   "metadata": {
    "collapsed": true
   },
   "outputs": [],
   "source": [
    "from pandas import read_csv, concat\n",
    "import os, glob"
   ]
  },
  {
   "cell_type": "code",
   "execution_count": null,
   "metadata": {
    "collapsed": false
   },
   "outputs": [],
   "source": [
    "# Set Working Directory and Locate Raw Data (.csv) Directory\n",
    "current_dir = os.path.join(\"YourWorkingDirectory\", \"Code\")\n",
    "raw_dir = os.path.join(current_dir, \"..\", \"RawData\")\n",
    "figure_dir = os.path.join(current_dir, \"..\", \"Figure1\")\n",
    "\n",
    "# Create Figure Data Directory\n",
    "if not os.path.exists(figure_dir):\n",
    "    os.makedirs(figure_dir)"
   ]
  },
  {
   "cell_type": "code",
   "execution_count": null,
   "metadata": {
    "collapsed": true
   },
   "outputs": [],
   "source": [
    "# Extract specific journals from 2005 (hardcoded) and onwards from a CSV file\n",
    "def extract_journal(csv, journal):\n",
    "    csv_data = read_csv(csv)\n",
    "    csv_data = csv_data[csv_data[\"year\"] >= 2005]\n",
    "    return(csv_data[csv_data[\"journal\"] == journal])"
   ]
  },
  {
   "cell_type": "code",
   "execution_count": null,
   "metadata": {
    "collapsed": false
   },
   "outputs": [],
   "source": [
    "# Journal identification strings as according to Pubmed\n",
    "journal_ids = {\n",
    "    \"Annual_Review_of_Neuroscience\"  : \"Annual review of neuroscience\",\n",
    "    \"Behavioral_and_Brain_Sciences\"  : \"The Behavioral and brain sciences\",\n",
    "    \"Brain\"                          : \"Brain : a journal of neurology\",\n",
    "    \"Cerebral_Cortex\"                : \"Cerebral cortex (New York, N.Y. : 1991)\",\n",
    "    \"Current_Opinion_in_Neurobiology\": \"Current opinion in neurobiology\",\n",
    "    \"Journal_of_Neuroscience\"        : \"The Journal of neuroscience : the official journal of the Society for Neuroscience\",\n",
    "    \"Nature\"                         : \"Nature\",\n",
    "    \"Nature_Neuroscience\"            : \"Nature neuroscience\",\n",
    "    \"Nature_Reviews_Neuroscience\"    : \"Nature reviews. Neuroscience\",\n",
    "    \"NeuroImage\"                     : \"NeuroImage\",\n",
    "    \"Neuron\"                         : \"Neuron\",\n",
    "    \"Neuropsychology_Review\"         : \"Neuropsychology review\",\n",
    "    \"PNAS\"                           : \"Proceedings of the National Academy of Sciences of the United States of America\",\n",
    "    \"Science\"                        : \"Science (New York, N.Y.)\",\n",
    "    \"Trends_in_Neurosciences\"        : \"Trends in neurosciences\"\n",
    "}"
   ]
  },
  {
   "cell_type": "code",
   "execution_count": null,
   "metadata": {
    "collapsed": false
   },
   "outputs": [],
   "source": [
    "# Extract and Write new csv files for each journal\n",
    "csv_files = glob.glob(os.path.join(raw_dir, \"*.csv\"))\n",
    "for key, value in journal_ids.items():\n",
    "    data = concat([extract_journal(csv, value) for csv in csv_files])\n",
    "    data.to_csv(os.path.join(figure_dir, key + \".csv\"))\n",
    "    print(\"Writing: \" + key)\n",
    "print(\"Done!\")"
   ]
  }
 ],
 "metadata": {
  "anaconda-cloud": {},
  "kernelspec": {
   "display_name": "Python [default]",
   "language": "python",
   "name": "python3"
  },
  "language_info": {
   "codemirror_mode": {
    "name": "ipython",
    "version": 3
   },
   "file_extension": ".py",
   "mimetype": "text/x-python",
   "name": "python",
   "nbconvert_exporter": "python",
   "pygments_lexer": "ipython3",
   "version": "3.5.2"
  }
 },
 "nbformat": 4,
 "nbformat_minor": 2
}
